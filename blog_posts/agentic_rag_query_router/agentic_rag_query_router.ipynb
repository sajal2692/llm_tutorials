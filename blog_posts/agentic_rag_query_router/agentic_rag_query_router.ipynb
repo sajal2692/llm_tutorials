{
 "cells": [
  {
   "cell_type": "markdown",
   "id": "55cb80e0",
   "metadata": {},
   "source": [
    "# An Agentic RAG Workflow Using a Query Router Built with LangGraph"
   ]
  },
  {
   "cell_type": "markdown",
   "id": "907f830a",
   "metadata": {},
   "source": [
    "## 1. Setup and Imports"
   ]
  },
  {
   "cell_type": "code",
   "execution_count": 78,
   "id": "fa65e69c",
   "metadata": {},
   "outputs": [],
   "source": [
    "# suppress warnings\n",
    "import warnings\n",
    "warnings.filterwarnings('ignore')"
   ]
  },
  {
   "cell_type": "code",
   "execution_count": 112,
   "id": "5bac6bbd",
   "metadata": {},
   "outputs": [],
   "source": [
    "import os\n",
    "\n",
    "from langchain_community.retrievers import WikipediaRetriever\n",
    "from langchain_core.prompts import ChatPromptTemplate, PromptTemplate\n",
    "from langchain_core.output_parsers import StrOutputParser\n",
    "from langchain_core.documents.base import Document\n",
    "from langchain_openai import ChatOpenAI \n",
    "\n",
    "from langgraph.graph import START, END, StateGraph"
   ]
  },
  {
   "cell_type": "code",
   "execution_count": 129,
   "id": "7fc6c956",
   "metadata": {},
   "outputs": [],
   "source": [
    "# set environment variables (please replace with your own)\n",
    "os.environ[\"OPENAI_API_KEY\"] = \"\"\n",
    "os.environ[\"TAVILY_API_KEY\"] = \"\""
   ]
  },
  {
   "cell_type": "markdown",
   "id": "b753cec7",
   "metadata": {},
   "source": [
    "## 2. Building a Simple RAG Pipeline with LangGraph with Wikipedia Retriever\n",
    "\n",
    "Rather than using LangChain's pre-packaged chains that integrate both retrieval and generation steps, we will deconstruct the RAG pipeline into a graph-based workflow utilizing LangGraph. This approach involves creating separate nodes for retrieval and generation processes."
   ]
  },
  {
   "cell_type": "code",
   "execution_count": 82,
   "id": "52e8c039",
   "metadata": {},
   "outputs": [],
   "source": [
    "# define state of class for the graph\n",
    "from typing import TypedDict, List\n",
    "\n",
    "# defining the state of our graph\n",
    "class GraphState(TypedDict):\n",
    "    \"\"\"\n",
    "    Represents the state of our graph.\n",
    "\n",
    "    Attributes:     \n",
    "        query: A string representing the user's query.\n",
    "        retrieved_docs: A list of Document objects retrieved from the Wikipedia retriever.\n",
    "        answer: A string representing the final answer to the user's query.\n",
    "    \"\"\"\n",
    "    query: str\n",
    "    retrieved_docs: List[Document]\n",
    "    answer: str"
   ]
  },
  {
   "cell_type": "code",
   "execution_count": 83,
   "id": "b75b0c16",
   "metadata": {},
   "outputs": [
    {
     "data": {
      "text/plain": [
       "[Document(metadata={'title': 'Manchester United F.C.', 'summary': \"Manchester United Football Club, commonly referred to as Man United (often stylised as Man Utd) or simply United, is a professional football club based in Old Trafford, Greater Manchester, England. They compete in the Premier League, the top tier of English football. Nicknamed the Red Devils, they were founded as Newton Heath LYR Football Club in 1878, but changed their name to Manchester United in 1902. After a spell playing in Clayton, Manchester, the club moved to their current stadium, Old Trafford, in 1910.\\nDomestically, Manchester United have won a joint-record twenty top-flight league titles, thirteen FA Cups, six League Cups and a record twenty-one FA Community Shields. Additionally, in international football, they have won the European Cup/UEFA Champions League three times, and the UEFA Europa League, the UEFA Cup Winners' Cup, the UEFA Super Cup, the Intercontinental Cup and the FIFA Club World Cup once each. Appointed as manager in 1945, Matt Busby built a team with an average age of just 22 nicknamed the Busby Babes that won successive league titles in the 1950s and became the first English club to compete in the European Cup. Eight players were killed in the Munich air disaster, but Busby rebuilt the team around star players George Best, Denis Law and Bobby Charlton – known as the United Trinity. They won two more league titles before becoming the first English club to win the European Cup in 1968.\\nAfter Busby's retirement, Manchester United were unable to produce sustained success until the arrival of Alex Ferguson, who became the club's longest-serving and most successful manager, winning 38 trophies including 13 league titles, five FA Cups and two Champions League titles between 1986 and 2013. In the 1998–99 season, under Ferguson, the club became the first in the history of English football to achieve the continental treble of the Premier League, FA Cup and UEFA Champions League. In winning the UEFA Europa League under José Mourinho in 2016–17, they became one of five clubs to have won the original three main UEFA club competitions (the Champions League, Europa League and Cup Winners' Cup).\\nManchester United is one of the most widely supported football clubs in the world and have rivalries with Liverpool, Manchester City, Arsenal and Leeds United. Manchester United was the highest-earning football club in the world for 2016–17, with an annual revenue of €676.3 million, and the world's third-most-valuable football club in 2019, valued at £3.15 billion ($3.81 billion). After being floated on the London Stock Exchange in 1991, the club was taken private in 2005 after a purchase by American businessman Malcolm Glazer valued at almost £800 million, of which over £500 million of borrowed money became the club's debt. From 2012, some shares of the club were listed on the New York Stock Exchange, although the Glazer family retains overall ownership and control of the club.\", 'source': 'https://en.wikipedia.org/wiki/Manchester_United_F.C.'}, page_content='Manchester United Football Club, commonly referred to as Man United (often stylised as Man Utd) or simply United, is a professional football club based in Old Trafford, Greater Manchester, England. They compete in the Premier League, the top tier of English football. Nicknamed the Red Devils, they were founded as Newton Heath LYR Football Club in 1878, but changed their name to Manchester United in 1902. After a spell playing in Clayton, Manchester, the club moved to their current stadium, Old Trafford, in 1910.\\nDomestically, Manchester United have won a joint-record twenty top-flight league titles, thirteen FA Cups, six League Cups and a record twenty-one FA Community Shields. Additionally, in international football, they have won the European Cup/UEFA Champions League three times, and the UEFA Europa League, the UEFA Cup Winners\\' Cup, the UEFA Super Cup, the Intercontinental Cup and the FIFA Club World Cup once each. Appointed as manager in 1945, Matt Busby built a team with an average age of just 22 nicknamed the Busby Babes that won successive league titles in the 1950s and became the first English club to compete in the European Cup. Eight players were killed in the Munich air disaster, but Busby rebuilt the team around star players George Best, Denis Law and Bobby Charlton – known as the United Trinity. They won two more league titles before becoming the first English club to win the European Cup in 1968.\\nAfter Busby\\'s retirement, Manchester United were unable to produce sustained success until the arrival of Alex Ferguson, who became the club\\'s longest-serving and most successful manager, winning 38 trophies including 13 league titles, five FA Cups and two Champions League titles between 1986 and 2013. In the 1998–99 season, under Ferguson, the club became the first in the history of English football to achieve the continental treble of the Premier League, FA Cup and UEFA Champions League. In winning the UEFA Europa League under José Mourinho in 2016–17, they became one of five clubs to have won the original three main UEFA club competitions (the Champions League, Europa League and Cup Winners\\' Cup).\\nManchester United is one of the most widely supported football clubs in the world and have rivalries with Liverpool, Manchester City, Arsenal and Leeds United. Manchester United was the highest-earning football club in the world for 2016–17, with an annual revenue of €676.3 million, and the world\\'s third-most-valuable football club in 2019, valued at £3.15 billion ($3.81 billion). After being floated on the London Stock Exchange in 1991, the club was taken private in 2005 after a purchase by American businessman Malcolm Glazer valued at almost £800 million, of which over £500 million of borrowed money became the club\\'s debt. From 2012, some shares of the club were listed on the New York Stock Exchange, although the Glazer family retains overall ownership and control of the club.\\n\\n\\n== History ==\\n\\n\\n=== Early years (1878–1945) ===\\n\\nManchester United were formed in 1878 as Newton Heath LYR Football Club by the Carriage and Wagon department of the Lancashire and Yorkshire Railway (LYR) depot at Newton Heath. The team initially played games against other departments and railway companies, but on 20 November 1880, they competed in their first recorded match; wearing the colours of the railway company – green and gold – they were defeated 6–0 by Bolton Wanderers\\' reserve team. By 1888, the club had become a founding member of The Combination, a regional football league. Following the league\\'s dissolution after only one season, Newton Heath joined the newly formed Football Alliance, which ran for three seasons before being merged with The Football League. This resulted in the club starting the 1892–93 season in the First Division, by which time it had become independent of the railway company and dropped the \"LYR\" from its name. After two seasons, the club was relegated to the Second Division.\\n\\nIn January 1902, with debts of £2,670 '),\n",
       " Document(metadata={'title': 'List of Manchester United F.C. records and statistics', 'summary': \"Manchester United Football Club is an English professional football club based in Old Trafford, Greater Manchester. The club was founded as Newton Heath LYR F.C. in 1878 and turned professional in 1885, before joining the Football League in 1892. After a brush with bankruptcy in 1901, the club reformed as Manchester United in 1902. Manchester United currently play in the Premier League, the top tier of English football. They have not been out of the top tier since 1975, and they have never been lower than the second tier. They have also been involved in European football ever since they became the first English club to enter the European Cup in 1956.\\nThis list encompasses the major honours won by Manchester United and records set by the club, their managers and their players. The player records section includes details of the club's leading goalscorers and those who have made most appearances in first-team competitions. It also records notable achievements by Manchester United players on the international stage, and the highest transfer fees paid and received by the club. The club's attendance records, both at Old Trafford, their home since 1910, and Maine Road, their temporary home from 1946 to 1949, are also included in the list.\\nThe club currently holds the record for the most Premier League titles with 13, and the highest number of English top-flight titles with 20. The club's record appearance maker is Ryan Giggs, who made 963 appearances between 1991 and 2014, and the club's record goalscorer is Wayne Rooney, who scored 253 goals in 559 appearances between 2004 and 2017.\", 'source': 'https://en.wikipedia.org/wiki/List_of_Manchester_United_F.C._records_and_statistics'}, page_content=\"Manchester United Football Club is an English professional football club based in Old Trafford, Greater Manchester. The club was founded as Newton Heath LYR F.C. in 1878 and turned professional in 1885, before joining the Football League in 1892. After a brush with bankruptcy in 1901, the club reformed as Manchester United in 1902. Manchester United currently play in the Premier League, the top tier of English football. They have not been out of the top tier since 1975, and they have never been lower than the second tier. They have also been involved in European football ever since they became the first English club to enter the European Cup in 1956.\\nThis list encompasses the major honours won by Manchester United and records set by the club, their managers and their players. The player records section includes details of the club's leading goalscorers and those who have made most appearances in first-team competitions. It also records notable achievements by Manchester United players on the international stage, and the highest transfer fees paid and received by the club. The club's attendance records, both at Old Trafford, their home since 1910, and Maine Road, their temporary home from 1946 to 1949, are also included in the list.\\nThe club currently holds the record for the most Premier League titles with 13, and the highest number of English top-flight titles with 20. The club's record appearance maker is Ryan Giggs, who made 963 appearances between 1991 and 2014, and the club's record goalscorer is Wayne Rooney, who scored 253 goals in 559 appearances between 2004 and 2017.\\n\\n\\n== Honours ==\\n\\nManchester United's first trophy was the Manchester Cup, which they won as Newton Heath LYR in 1886. Their first national senior honour came in 1908, when they won the 1907–08 Football League First Division title. The club won the FA Cup for the first time the following year. In terms of trophies won, the 1990s were Manchester United's most successful decade, during which time they won five league titles, four FA Cups, one League Cup, five Charity Shields (one shared)[A], one Champions League, one Cup Winners' Cup, one Super Cup and one Intercontinental Cup.\\nThe club currently holds the record for most top-division titles, with 20. They were also the first team to win the Premier League, and hold the record for the most Premier League titles with 13. Manchester United became the first English team to win the European Cup when they won it in 1968. The club's most recent trophy came in May 2024, when they won the FA Cup.\\n\\n\\n=== Domestic ===\\n\\n\\n==== League ====\\nFirst Division / Premier League (Level 1)[B]: 20 – shared\\n1907–08, 1910–11, 1951–52, 1955–56, 1956–57, 1964–65, 1966–67, 1992–93, 1993–94, 1995–96, 1996–97, 1998–99, 1999–2000, 2000–01, 2002–03, 2006–07, 2007–08, 2008–09, 2010–11, 2012–13\\nSecond Division (Level 2)[B]: 2\\n1935–36, 1974–75\\n\\n\\n==== Cups ====\\nFA Cup: 13\\n1908–09, 1947–48, 1962–63, 1976–77, 1982–83, 1984–85, 1989–90, 1993–94, 1995–96, 1998–99, 2003–04, 2015–16, 2023–24\\nLeague/EFL Cup: 6\\n1991–92, 2005–06, 2008–09, 2009–10, 2016–17, 2022–23\\nFA Charity/Community Shield[A]: 21 (17 outright, 4 shared) – record\\n1908, 1911, 1952, 1956, 1957, 1965*, 1967*, 1977*, 1983, 1990*, 1993, 1994, 1996, 1997, 2003, 2007, 2008, 2010, 2011, 2013, 2016 (* joint holders)\\n\\n\\n=== European ===\\nEuropean Cup / UEFA Champions League: 3\\n1967–68, 1998–99, 2007–08\\nEuropean Cup Winners' Cup: 1\\n1990–91\\nUEFA Europa League: 1\\n2016–17\\nEuropean Super Cup: 1\\n1991\\n\\n\\n=== Worldwide ===\\nIntercontinental Cup: 1\\n1999\\nFIFA Club World Cup: 1\\n2008\\n\\n\\n=== Regional ===\\nManchester Senior Cup: 23\\n1886, 1888, 1889, 1890, 1893, 1902, 1908, 1910, 1912, 1913, 1920, 1924, 1926, 1931, 1934, 1936, 1937, 1939, 1948, 1955, 1957, 1959, 1964\\n\\n\\n=== Awards ===\\nLaureus World Team of the Year\\nWinner: 2000\\nIFFHS World Club Team of the Year\\nWinner: 1999, 2008\\nPFA Merit Award\\nWinner: 1993, 2013\\nBBC Sports Team of the Year Award\\nWinner: 1968, 1999\\n\\n\\n== Players ==\\n\\nAll current players are in boldAl\"),\n",
       " Document(metadata={'title': 'Manchester United W.F.C.', 'summary': \"Manchester United Women Football Club is a professional football club based in Leigh, Greater Manchester, England, that competes in the Women's Super League (WSL), the top tier of English women's football, after gaining promotion from the Championship at the end of the 2018–19 season. They won their first major honour when they lifted the 2023–24 Women's FA Cup, a season which also saw the team make their UEFA Women's Champions League debut.\", 'source': 'https://en.wikipedia.org/wiki/Manchester_United_W.F.C.'}, page_content='Manchester United Women Football Club is a professional football club based in Leigh, Greater Manchester, England, that competes in the Women\\'s Super League (WSL), the top tier of English women\\'s football, after gaining promotion from the Championship at the end of the 2018–19 season. They won their first major honour when they lifted the 2023–24 Women\\'s FA Cup, a season which also saw the team make their UEFA Women\\'s Champions League debut.\\n\\n\\n== History ==\\n\\n\\n=== 1970s–2001: Unofficial teams ===\\nRatified in 1921, the ban by The Football Association prohibiting women\\'s football from being played at any of its clubs was formally lifted in 1971.\\nAn unofficial team called United Ladies of Manchester was formed circa 1970 by a group of Stretford Enders. They trained at the club\\'s training ground, The Cliff, and arranged matches against other clubs\\' unofficial women\\'s teams.\\nManchester United Supporters Club Ladies began operations in the late 1970s and was unofficially recognised as the club\\'s senior women\\'s team. In their earliest form they were a charity team that played fundraising matches and played its first game in October 1977. In 1979, the team joined the Three Counties League under the auspices of the Women\\'s Football Association and started playing competitively. With the league covering a large area, United\\'s committee campaigned for a local league and in 1982 the Women\\'s FA approved the creation of the Manchester & District League, of which Manchester United Supporters Club Ladies was a founding member and won the first three seasons. In 1989, the combined Manchester & Merseyside League, North West Women\\'s League, and the Three Counties League merged to form the North West Women\\'s Regional Football League. The league was spread across four divisions and included 42 teams. At the same time, the team approached Manchester United F.C. for support and more formal backing. The club agreed and the team was allowed to use the name Manchester United Ladies FC, matches were advertised in the club\\'s programme and the team was allowed to train at The Cliff. The team became increasingly competitive throughout the 1990s at various levels of the FA Women\\'s National League up until 2001.\\n\\n\\n=== 2001–2005: Partnership and disbandment ===\\n\\nIn 2001, the team formed an official partnership with Manchester United. However, the club began to stagnate with a string of successive mid-table finishes in the third division. The team were disbanded four years later, in 2005, shortly after Malcolm Glazer\\'s completed takeover with the new regime deeming the women\\'s team to not be part of the \"core business\" and unprofitable. A media spokesman for Manchester United also claimed the club wanted to focus on its women\\'s academy instead of its senior team.\\n\\n\\n=== 2018–present: Current team ===\\n\\nIn March 2018, Manchester United announced their intentions to reintroduce a women\\'s football team. Manchester United Women Football Club were founded on 28 May 2018, following the club\\'s successful application to join the newly-formed 2018–19 FA Women\\'s Championship. It marked the club\\'s return to women\\'s football after a thirteen-year absence; though the club\\'s academy continued via the Manchester United Foundation, with the likes of Izzy Christiansen and Katie Zelem being produced by United\\'s Centre of Excellence academy. Casey Stoney was appointed as the club\\'s first head coach on 8 June, with their inaugural 21-player squad announced just over a month later.\\nThe team\\'s first game back was on 19 August 2018, where they won 1–0 in an away game against Liverpool in the FA Women\\'s League Cup, with Lizzie Arnot scoring their first competitive goal in thirteen years. Three weeks later, their opening Championship encounter ended in a 12–0 victory away to Aston Villa. On 17 April 2019, United secured promotion to the FA Women\\'s Super League following a 5–0 win against the same opposition. They clinched the FA Women\\'s Championship title three days later following a 7–0')]"
      ]
     },
     "execution_count": 83,
     "metadata": {},
     "output_type": "execute_result"
    }
   ],
   "source": [
    "# testing the wikipedia retriever\n",
    "wikipedia_retriever = WikipediaRetriever()\n",
    "wikipedia_retriever.invoke(\"When was manchester united founded?\")"
   ]
  },
  {
   "cell_type": "code",
   "execution_count": 84,
   "id": "db349f20",
   "metadata": {},
   "outputs": [],
   "source": [
    "# encapsulating the wikipedia retriever into a node\n",
    "def retrieve_from_wikipedia(state: GraphState) -> GraphState:\n",
    "    \"\"\"\n",
    "    Retrieves documents from Wikipedia based on the query.\n",
    "\n",
    "    Args:\n",
    "        state: A dictionary containing the state of the graph.\n",
    "\n",
    "    Returns:\n",
    "        Updated state with retrieved documents.\n",
    "    \"\"\"\n",
    "    print(\"*** Running Node: Retrieve from Wikipedia ***\")\n",
    "    retrieved_docs = wikipedia_retriever.invoke(state[\"query\"])\n",
    "    return {\"retrieved_docs\": retrieved_docs}"
   ]
  },
  {
   "cell_type": "code",
   "execution_count": 85,
   "id": "de2c9861",
   "metadata": {},
   "outputs": [],
   "source": [
    "rag_prompt = \"\"\"You are an AI  assistant. Your main task is to answer questions people may have about Sajal.\n",
    "Use the following pieces of retrieved context to answer the question. If you don't know the answer, just say that you don't know. Use three sentences maximum and keep the answer concise.\n",
    "Question: {query}\n",
    "Context: {context}\n",
    "Answer:\n",
    "\"\"\"\n",
    "\n",
    "rag_prompt_template = ChatPromptTemplate.from_template(rag_prompt)\n",
    "\n",
    "llm = ChatOpenAI(model=\"gpt-4o\", temperature=0)"
   ]
  },
  {
   "cell_type": "code",
   "execution_count": 86,
   "id": "daba74e1",
   "metadata": {},
   "outputs": [],
   "source": [
    "generation_answer_chain = rag_prompt_template | llm | StrOutputParser()\n",
    "def generate_answer_with_retrieved_documents(state: GraphState) -> GraphState:\n",
    "  \"\"\"Node to generate answer using retrieved documents\"\"\"\n",
    "  print(\"*** Running Node: Generate Answer with Retrieved Documents ***\") \n",
    "  query = state[\"query\"]\n",
    "  documents = state[\"retrieved_docs\"]\n",
    "  answer = generation_answer_chain.invoke({\"query\": query, \"context\": documents})\n",
    "  return {\"answer\": answer}"
   ]
  },
  {
   "cell_type": "code",
   "execution_count": 87,
   "id": "6e565d5b",
   "metadata": {},
   "outputs": [],
   "source": [
    "# building a graph\n",
    "def compile_graph():\n",
    "    workflow = StateGraph(GraphState)\n",
    "    ### add the nodes\n",
    "    workflow.add_node(\"retrieve_wikipedia\", retrieve_from_wikipedia)\n",
    "    workflow.add_node(\"generate_answer\", generate_answer_with_retrieved_documents)\n",
    "    ## build graph\n",
    "    workflow.set_entry_point(\"retrieve_wikipedia\")\n",
    "    workflow.add_edge(\"retrieve_wikipedia\", \"generate_answer\")\n",
    "    workflow.add_edge(\"generate_answer\", END)\n",
    "    ## compile graph\n",
    "    return workflow.compile()"
   ]
  },
  {
   "cell_type": "code",
   "execution_count": null,
   "id": "61ea5c3e",
   "metadata": {},
   "outputs": [],
   "source": [
    "app = compile_graph()\n",
    "def response_from_graph(query: str):\n",
    "    return app.invoke({\"query\": query})[\"answer\"]"
   ]
  },
  {
   "cell_type": "code",
   "execution_count": 89,
   "id": "4294f67a",
   "metadata": {},
   "outputs": [
    {
     "name": "stdout",
     "output_type": "stream",
     "text": [
      "*** Running Node: Retrieve from Wikipedia ***\n",
      "*** Running Node: Generate Answer with Retrieved Documents ***\n",
      "Manchester United was founded as Newton Heath LYR Football Club in 1878.\n"
     ]
    }
   ],
   "source": [
    "print(response_from_graph(\"When was manchester united founded?\"))"
   ]
  },
  {
   "cell_type": "code",
   "execution_count": null,
   "id": "789b2dfa",
   "metadata": {},
   "outputs": [
    {
     "name": "stdout",
     "output_type": "stream",
     "text": [
      "*** Running Node: Retrieve from Wikipedia ***\n",
      "*** Running Node: Generate Answer with Retrieved Documents ***\n",
      "I don't know who Manchester United is looking to sign next season, as the provided context does not include information about their transfer targets.\n"
     ]
    }
   ],
   "source": [
    "# Try a query that relies on up-to-date information\n",
    "print(response_from_graph(\"Who are Manchester United looking to sign next season?\"))"
   ]
  },
  {
   "cell_type": "markdown",
   "id": "1d53f45e",
   "metadata": {},
   "source": [
    "As seen above, the Wikipedia retriever is not able to retrieve up-to-date information, and our RAG pipeline suffers from it."
   ]
  },
  {
   "cell_type": "markdown",
   "id": "8f4b7ab2",
   "metadata": {},
   "source": [
    "## 3. Agentic RAG Pipeline with Router and Web Search Retriever\n",
    "\n",
    "Start with adding a web search retriever using Tavily API"
   ]
  },
  {
   "cell_type": "code",
   "execution_count": null,
   "id": "1478c309",
   "metadata": {},
   "outputs": [
    {
     "data": {
      "text/plain": [
       "[Document(metadata={'title': \"Man United's next signings once Matheus Cunha and Sandro Tonali ...\", 'source': 'https://www.manchestereveningnews.co.uk/sport/football/transfer-news/man-uniteds-next-signings-once-31614635', 'score': 0.71496695, 'images': []}, page_content=\"Ruben Amorim needs a new centre-forward for Manchester United A striker is simply the priority. Ipswich Town's Liam Delap is understood to be the number one target with his £30m release clause\"),\n",
       " Document(metadata={'title': 'Man Utd to sign THREE attackers with choice between Semenyo and Mbeumo made', 'source': 'https://www.teamtalk.com/manchester-united/man-utd-choose-between-mbeumo-semenyo-third-attacker-signing', 'score': 0.564027, 'images': []}, page_content='Manchester United intend to make three major additions to their forward line, and with deals one and two already advancing, a the club have now chosen between Antoine Semenyo and Bryan Mbeumo for'),\n",
       " Document(metadata={'title': 'Who will Man Utd sign this summer? Every player linked with the ... - 90min', 'source': 'https://www.90min.com/posts/who-will-man-utd-sign-this-summer-every-player-linked-before-transfer-window', 'score': 0.45595008, 'images': []}, page_content=\"After succumbing to a 4-0 thrashing at the hands of Brentford on the second weekend of the season, very few would have foreshadowed Manchester United's eventual success in 2022/23.\")]"
      ]
     },
     "execution_count": 100,
     "metadata": {},
     "output_type": "execute_result"
    }
   ],
   "source": [
    "from langchain_community.retrievers import TavilySearchAPIRetriever\n",
    "\n",
    "tavily_retriever = TavilySearchAPIRetriever(k=3)\n",
    "# test out the tavily retriever\n",
    "tavily_retriever.invoke(\"Who are Manchester United looking to sign next season?\")"
   ]
  },
  {
   "cell_type": "code",
   "execution_count": 101,
   "id": "9c28fffd",
   "metadata": {},
   "outputs": [],
   "source": [
    "# create a node for the web search retriever    \n",
    "def retrieve_from_web_search(state: GraphState) -> GraphState:\n",
    "    \"\"\"\n",
    "    Retrieves documents from web search based on the query.\n",
    "\n",
    "    Args:\n",
    "        state: A dictionary containing the state of the graph.\n",
    "\n",
    "    Returns:\n",
    "        Updated state with retrieved documents.\n",
    "    \"\"\"\n",
    "    print(\"*** Running Node: Retrieve from Web Search ***\")\n",
    "    retrieved_docs = tavily_retriever.invoke(state[\"query\"])\n",
    "    return {\"retrieved_docs\": retrieved_docs}"
   ]
  },
  {
   "cell_type": "code",
   "execution_count": null,
   "id": "0d49eb8a",
   "metadata": {},
   "outputs": [],
   "source": [
    "# create an llm chain which determines which retriever to use\n",
    "from pydantic import BaseModel, Field\n",
    "\n",
    "class RouterOutput(BaseModel):\n",
    "    \"\"\"Schema for router output\"\"\"\n",
    "    chosen_retriever: str = Field(description=\"The name of the chosen retriever. Either 'wikipedia' or 'web_search'\")\n",
    "    \n",
    "\n",
    "router_prompt = \"\"\"\n",
    "You are a helpful assistant that can determine which retriever to use based on the query.\n",
    "If a given query is about a topic based on historical context, output \"wikipedia\". \n",
    "If a given query is about a topic based on current events, output \"web_search\".    \n",
    "\n",
    "Query: {query}\n",
    "\"\"\"\n",
    "\n",
    "router_prompt_template = PromptTemplate.from_template(router_prompt)\n",
    "llm_with_router_output = llm.with_structured_output(RouterOutput)\n",
    "router_chain = router_prompt_template | llm_with_router_output"
   ]
  },
  {
   "cell_type": "code",
   "execution_count": null,
   "id": "3eabe93b",
   "metadata": {},
   "outputs": [
    {
     "data": {
      "text/plain": [
       "RouterOutput(chosen_retriever='wikipedia')"
      ]
     },
     "execution_count": 106,
     "metadata": {},
     "output_type": "execute_result"
    }
   ],
   "source": [
    "# test out the router chain\n",
    "router_chain.invoke({\"query\": \"What is Manchester United?\"})"
   ]
  },
  {
   "cell_type": "code",
   "execution_count": 108,
   "id": "87978def",
   "metadata": {},
   "outputs": [
    {
     "data": {
      "text/plain": [
       "RouterOutput(chosen_retriever='web_search')"
      ]
     },
     "execution_count": 108,
     "metadata": {},
     "output_type": "execute_result"
    }
   ],
   "source": [
    "router_chain.invoke({\"query\": \"Who are Manchester United looking to sign next season?\"})"
   ]
  },
  {
   "cell_type": "code",
   "execution_count": 118,
   "id": "50e0119b",
   "metadata": {},
   "outputs": [],
   "source": [
    "# defining the state of our graph\n",
    "class GraphState(TypedDict):\n",
    "    \"\"\"\n",
    "    Represents the state of our graph.\n",
    "\n",
    "    Attributes:     \n",
    "        query: A string representing the user's query.\n",
    "        retrieved_docs: A list of Document objects retrieved from the Wikipedia retriever.\n",
    "        answer: A string representing the final answer to the user's query.\n",
    "    \"\"\"\n",
    "    chosen_retriever: str\n",
    "    query: str\n",
    "    retrieved_docs: List[Document]\n",
    "    answer: str"
   ]
  },
  {
   "cell_type": "code",
   "execution_count": 119,
   "id": "385a1f9f",
   "metadata": {},
   "outputs": [],
   "source": [
    "# create a router node to determine which retriever to use.\n",
    "def query_router(state: GraphState) -> GraphState:\n",
    "    \"\"\"\n",
    "    Determines which retriever to use based on the query.\n",
    "\n",
    "    Args:\n",
    "        state: A dictionary containing the state of the graph.\n",
    "\n",
    "    Returns:\n",
    "        Updated state with retrieved documents.\n",
    "    \"\"\"\n",
    "    print(\"*** Running Node: Query Router ***\")\n",
    "    chosen_retriever = router_chain.invoke({\"query\": state[\"query\"]}).chosen_retriever\n",
    "    print(f\"Chosen retriever: {chosen_retriever}\")\n",
    "    return {\"chosen_retriever\": chosen_retriever} "
   ]
  },
  {
   "cell_type": "code",
   "execution_count": null,
   "id": "a12de5a3",
   "metadata": {},
   "outputs": [],
   "source": [
    "# define routing function which will be used in the conditional edge\n",
    "def routing_function(state: GraphState) -> str:\n",
    "    \"\"\"Conditional edge for the routing function which decides the next node to execute.\"\"\"\n",
    "    return state[\"chosen_retriever\"]"
   ]
  },
  {
   "cell_type": "code",
   "execution_count": 122,
   "id": "6961107a",
   "metadata": {},
   "outputs": [],
   "source": [
    "# create a new graph with the query router\n",
    "def compile_agentic_rag_graph():\n",
    "    workflow = StateGraph(GraphState)\n",
    "    ### add the nodes\n",
    "    workflow.add_node(\"query_router\", query_router)\n",
    "    workflow.add_node(\"retrieve_wikipedia\", retrieve_from_wikipedia)\n",
    "    workflow.add_node(\"retrieve_web_search\", retrieve_from_web_search)\n",
    "    workflow.add_node(\"generate_answer\", generate_answer_with_retrieved_documents)\n",
    "    ## build graph\n",
    "    workflow.set_entry_point(\"query_router\")\n",
    "    workflow.add_conditional_edges(\n",
    "        \"query_router\",\n",
    "        routing_function,\n",
    "        {\n",
    "            \"wikipedia\": \"retrieve_wikipedia\",\n",
    "            \"web_search\": \"retrieve_web_search\"\n",
    "        }\n",
    "    )\n",
    "    workflow.add_edge(\"retrieve_wikipedia\", \"generate_answer\")\n",
    "    workflow.add_edge(\"retrieve_web_search\", \"generate_answer\") \n",
    "    workflow.add_edge(\"generate_answer\", END)\n",
    "    ## compile graph\n",
    "    return workflow.compile()"
   ]
  },
  {
   "cell_type": "code",
   "execution_count": 123,
   "id": "294c0f74",
   "metadata": {},
   "outputs": [],
   "source": [
    "app = compile_agentic_rag_graph()\n",
    "def response_from_graph(query: str):\n",
    "    return app.invoke({\"query\": query})[\"answer\"]"
   ]
  },
  {
   "cell_type": "code",
   "execution_count": 124,
   "id": "6b6af208",
   "metadata": {},
   "outputs": [
    {
     "name": "stdout",
     "output_type": "stream",
     "text": [
      "*** Running Node: Query Router ***\n",
      "Chosen retriever: wikipedia\n",
      "*** Running Node: Retrieve from Wikipedia ***\n",
      "*** Running Node: Generate Answer with Retrieved Documents ***\n",
      "Manchester United was incorporated in 1902 when the club changed its name from Newton Heath LYR Football Club to Manchester United.\n"
     ]
    }
   ],
   "source": [
    "print(response_from_graph(\"When was Manchester United incorporated?\"))"
   ]
  },
  {
   "cell_type": "code",
   "execution_count": 127,
   "id": "9d8b8dab",
   "metadata": {},
   "outputs": [
    {
     "name": "stdout",
     "output_type": "stream",
     "text": [
      "*** Running Node: Query Router ***\n",
      "Chosen retriever: web_search\n",
      "*** Running Node: Retrieve from Web Search ***\n",
      "*** Running Node: Generate Answer with Retrieved Documents ***\n",
      "Manchester United are looking to sign Ipswich Town's Liam Delap, who is understood to be their number one target with a £30m release clause.\n"
     ]
    }
   ],
   "source": [
    "print(response_from_graph(\"Who are Manchester United looking to sign next?\"))"
   ]
  },
  {
   "cell_type": "markdown",
   "id": "3d8df6ea",
   "metadata": {},
   "source": [
    "The query that was previously not answered correctly is now answered correctly!"
   ]
  }
 ],
 "metadata": {
  "kernelspec": {
   "display_name": "Python 3 (ipykernel)",
   "language": "python",
   "name": "python3"
  },
  "language_info": {
   "codemirror_mode": {
    "name": "ipython",
    "version": 3
   },
   "file_extension": ".py",
   "mimetype": "text/x-python",
   "name": "python",
   "nbconvert_exporter": "python",
   "pygments_lexer": "ipython3",
   "version": "3.12.5"
  }
 },
 "nbformat": 4,
 "nbformat_minor": 5
}
